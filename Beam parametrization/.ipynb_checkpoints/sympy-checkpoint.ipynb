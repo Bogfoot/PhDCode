{
 "cells": [
  {
   "cell_type": "code",
   "execution_count": 8,
   "id": "a9027382-e006-4532-96f1-7185c4f55aca",
   "metadata": {},
   "outputs": [],
   "source": [
    "import sympy as smp"
   ]
  },
  {
   "cell_type": "code",
   "execution_count": 72,
   "id": "1c2f3afe-3786-4c11-8630-7bd7ff52196a",
   "metadata": {},
   "outputs": [],
   "source": [
    "x, A, B = smp.symbols(\"x alpha beta\")\n",
    "f,g = smp.symbols(\"f g\", cls=smp.Function)"
   ]
  },
  {
   "cell_type": "code",
   "execution_count": 78,
   "id": "0e18e373-7db7-4e78-92b4-325a6448dd7a",
   "metadata": {},
   "outputs": [],
   "source": [
    "g = 2*x-1\n",
    "f = g * smp.cos(smp.sqrt(3*g**2 + 6))/(smp.sqrt(3*g**2 + 6))"
   ]
  },
  {
   "cell_type": "code",
   "execution_count": 79,
   "id": "6d8b708a-766c-4cd2-a893-5a4285e8fdac",
   "metadata": {},
   "outputs": [
    {
     "data": {
      "text/latex": [
       "$\\displaystyle \\frac{\\left(2 x - 1\\right) \\cos{\\left(\\sqrt{3 \\left(2 x - 1\\right)^{2} + 6} \\right)}}{\\sqrt{3 \\left(2 x - 1\\right)^{2} + 6}}$"
      ],
      "text/plain": [
       "(2*x - 1)*cos(sqrt(3*(2*x - 1)**2 + 6))/sqrt(3*(2*x - 1)**2 + 6)"
      ]
     },
     "execution_count": 79,
     "metadata": {},
     "output_type": "execute_result"
    }
   ],
   "source": [
    "f"
   ]
  },
  {
   "cell_type": "code",
   "execution_count": 80,
   "id": "e429787f-f8ae-4d07-9fce-9e9020787c84",
   "metadata": {},
   "outputs": [],
   "source": [
    "integrand = smp.integrate(f,x)"
   ]
  },
  {
   "cell_type": "code",
   "execution_count": 81,
   "id": "d5154a7c-1383-47fc-b4a6-1b7ca01078c9",
   "metadata": {},
   "outputs": [
    {
     "data": {
      "text/latex": [
       "$\\displaystyle \\frac{\\left(12 x - 6\\right) \\cos{\\left(\\sqrt{3 \\left(2 x - 1\\right)^{2} + 6} \\right)}}{6 \\sqrt{3 \\left(2 x - 1\\right)^{2} + 6}}$"
      ],
      "text/plain": [
       "(12*x - 6)*cos(sqrt(3*(2*x - 1)**2 + 6))/(6*sqrt(3*(2*x - 1)**2 + 6))"
      ]
     },
     "execution_count": 81,
     "metadata": {},
     "output_type": "execute_result"
    }
   ],
   "source": [
    "integrand.diff(x)"
   ]
  },
  {
   "cell_type": "code",
   "execution_count": null,
   "id": "a8104af8-aa32-4362-9bc3-55d2be74bd81",
   "metadata": {},
   "outputs": [],
   "source": []
  }
 ],
 "metadata": {
  "kernelspec": {
   "display_name": "Python 3 (ipykernel)",
   "language": "python",
   "name": "python3"
  },
  "language_info": {
   "codemirror_mode": {
    "name": "ipython",
    "version": 3
   },
   "file_extension": ".py",
   "mimetype": "text/x-python",
   "name": "python",
   "nbconvert_exporter": "python",
   "pygments_lexer": "ipython3",
   "version": "3.9.13"
  }
 },
 "nbformat": 4,
 "nbformat_minor": 5
}
