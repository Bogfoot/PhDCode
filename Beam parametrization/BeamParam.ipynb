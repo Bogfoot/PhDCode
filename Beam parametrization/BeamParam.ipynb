{
 "cells": [
  {
   "cell_type": "code",
   "execution_count": 1,
   "id": "a9027382-e006-4532-96f1-7185c4f55aca",
   "metadata": {},
   "outputs": [],
   "source": [
    "import sympy as smp\n",
    "import matplotlib.pyplot as plt"
   ]
  },
  {
   "cell_type": "code",
   "execution_count": 2,
   "id": "1c2f3afe-3786-4c11-8630-7bd7ff52196a",
   "metadata": {},
   "outputs": [],
   "source": [
    "x, A, B = smp.symbols(\"x alpha beta\")\n",
    "f,g = smp.symbols(\"f g\", cls=smp.Function)"
   ]
  },
  {
   "cell_type": "code",
   "execution_count": 3,
   "id": "0e18e373-7db7-4e78-92b4-325a6448dd7a",
   "metadata": {},
   "outputs": [
    {
     "data": {
      "text/latex": [
       "$\\displaystyle \\frac{\\left(2 x - 1\\right) \\cos{\\left(\\sqrt{3 \\left(2 x - 1\\right)^{2} + 6} \\right)}}{\\sqrt{3 \\left(2 x - 1\\right)^{2} + 6}}$"
      ],
      "text/plain": [
       "(2*x - 1)*cos(sqrt(3*(2*x - 1)**2 + 6))/sqrt(3*(2*x - 1)**2 + 6)"
      ]
     },
     "execution_count": 3,
     "metadata": {},
     "output_type": "execute_result"
    }
   ],
   "source": [
    "g = 2*x-1\n",
    "f = g * smp.cos(smp.sqrt(3*g**2 + 6))/(smp.sqrt(3*g**2 + 6))\n",
    "f"
   ]
  },
  {
   "cell_type": "code",
   "execution_count": 4,
   "id": "6d8b708a-766c-4cd2-a893-5a4285e8fdac",
   "metadata": {},
   "outputs": [
    {
     "data": {
      "text/latex": [
       "$\\displaystyle \\frac{\\sin{\\left(\\sqrt{3 \\left(2 x - 1\\right)^{2} + 6} \\right)}}{6}$"
      ],
      "text/plain": [
       "sin(sqrt(3*(2*x - 1)**2 + 6))/6"
      ]
     },
     "execution_count": 4,
     "metadata": {},
     "output_type": "execute_result"
    }
   ],
   "source": [
    "smp.integrate(f,x)"
   ]
  },
  {
   "cell_type": "code",
   "execution_count": 5,
   "id": "e429787f-f8ae-4d07-9fce-9e9020787c84",
   "metadata": {},
   "outputs": [],
   "source": [
    "integrand = smp.integrate(f,(x,0,10))"
   ]
  },
  {
   "cell_type": "code",
   "execution_count": 6,
   "id": "d5154a7c-1383-47fc-b4a6-1b7ca01078c9",
   "metadata": {},
   "outputs": [
    {
     "data": {
      "text/latex": [
       "$\\displaystyle 0.143131975341233$"
      ],
      "text/plain": [
       "0.143131975341233"
      ]
     },
     "execution_count": 6,
     "metadata": {},
     "output_type": "execute_result"
    }
   ],
   "source": [
    "integrand.evalf()"
   ]
  },
  {
   "cell_type": "code",
   "execution_count": 7,
   "id": "2068b727-6712-40aa-a5f8-d00f2e687b37",
   "metadata": {},
   "outputs": [
    {
     "data": {
      "text/plain": [
       "(w - w_0*sqrt(lambda**2*(z_1 - z_waist)**2/(pi**2*w_0**4) + 1),\n",
       " w - w_0*sqrt(lambda**2*(z_2 - z_waist)**2/(pi**2*w_0**4) + 1))"
      ]
     },
     "execution_count": 7,
     "metadata": {},
     "output_type": "execute_result"
    }
   ],
   "source": [
    "w, z1, z2, lam, w0, zwaist = smp.symbols(\"w z_1 z_2 lambda w_0 z_waist\")\n",
    "eq = smp.symbols(\"eq\", cls=smp.Function)\n",
    "eq1 = w - w0 * smp.sqrt(1 + (((z1 - zwaist) * lam) / (smp.pi * w0**2)) ** 2)\n",
    "eq2 = w - w0 * smp.sqrt(1 + (((z2 - zwaist) * lam) / (smp.pi * w0**2)) ** 2)\n",
    "eq1, eq2"
   ]
  },
  {
   "cell_type": "code",
   "execution_count": 8,
   "id": "8f01514c",
   "metadata": {},
   "outputs": [
    {
     "name": "stdout",
     "output_type": "stream",
     "text": [
      "Solution found:\n",
      "w0 = 0.000693341359673726\n",
      "zwaist = -0.936895653185063\n"
     ]
    }
   ],
   "source": [
    "import sympy as sp\n",
    "\n",
    "wavelength = 780e-9\n",
    "\n",
    "z1 = 261e-3\n",
    "w1 = 0.815309e-3\n",
    "\n",
    "z2 = 888e-3\n",
    "w2 = 0.952767e-3\n",
    "\n",
    "w0, zwaist = sp.symbols('w0 zwaist')\n",
    "\n",
    "eq1 = w1 - w0 * sp.sqrt(1 + (((z1 - zwaist) * wavelength) / (sp.pi * w0**2))**2)\n",
    "eq2 = w2 - w0 * sp.sqrt(1 + (((z2 - zwaist) * wavelength) / (sp.pi * w0**2))**2)\n",
    "\n",
    "solutions = sp.nsolve((eq1, eq2), (w0, zwaist), (1e-3, 0))\n",
    "\n",
    "w0_solution, zwaist_solution = solutions[0], solutions[1]\n",
    "print(\"Solution found:\")\n",
    "print(f\"w0 = {w0_solution}\")\n",
    "print(f\"zwaist = {zwaist_solution}\")"
   ]
  },
  {
   "cell_type": "code",
   "execution_count": 11,
   "id": "1f8769fb",
   "metadata": {},
   "outputs": [
    {
     "ename": "AttributeError",
     "evalue": "'list' object has no attribute 'subs'",
     "output_type": "error",
     "traceback": [
      "\u001b[0;31m---------------------------------------------------------------------------\u001b[0m",
      "\u001b[0;31mAttributeError\u001b[0m                            Traceback (most recent call last)",
      "Cell \u001b[0;32mIn[11], line 2\u001b[0m\n\u001b[1;32m      1\u001b[0m \u001b[38;5;66;03m#z, lam, w0, zwaist = 261e-3,775e-9,0.8153,1\u001b[39;00m\n\u001b[0;32m----> 2\u001b[0m \u001b[43msmp\u001b[49m\u001b[38;5;241;43m.\u001b[39;49m\u001b[43msolve\u001b[49m\u001b[43m(\u001b[49m\u001b[43meq1\u001b[49m\u001b[43m,\u001b[49m\u001b[43mw\u001b[49m\u001b[43m)\u001b[49m\u001b[38;5;241;43m.\u001b[39;49m\u001b[43msubs\u001b[49m({z: \u001b[38;5;241m261e-3\u001b[39m,lam: \u001b[38;5;241m775e-9\u001b[39m,w0: \u001b[38;5;241m0.8153\u001b[39m,zwaist: \u001b[38;5;241m0.001\u001b[39m})\u001b[38;5;241m.\u001b[39mevalf()\n",
      "\u001b[0;31mAttributeError\u001b[0m: 'list' object has no attribute 'subs'"
     ]
    }
   ],
   "source": [
    "#z, lam, w0, zwaist = 261e-3,775e-9,0.8153,1\n",
    "smp.solve(eq1,w).subs({z: 261e-3,lam: 775e-9,w0: 0.8153,zwaist: 0.001}).evalf()"
   ]
  },
  {
   "cell_type": "code",
   "execution_count": null,
   "id": "44f1f882",
   "metadata": {},
   "outputs": [],
   "source": []
  },
  {
   "cell_type": "code",
   "execution_count": null,
   "id": "5bb61d9c",
   "metadata": {},
   "outputs": [],
   "source": []
  },
  {
   "cell_type": "code",
   "execution_count": null,
   "id": "d4294d18",
   "metadata": {},
   "outputs": [],
   "source": []
  },
  {
   "cell_type": "code",
   "execution_count": null,
   "id": "5d9d5c0c",
   "metadata": {},
   "outputs": [],
   "source": []
  }
 ],
 "metadata": {
  "kernelspec": {
   "display_name": "Python 3 (ipykernel)",
   "language": "python",
   "name": "python3"
  },
  "language_info": {
   "codemirror_mode": {
    "name": "ipython",
    "version": 3
   },
   "file_extension": ".py",
   "mimetype": "text/x-python",
   "name": "python",
   "nbconvert_exporter": "python",
   "pygments_lexer": "ipython3",
   "version": "3.10.9"
  }
 },
 "nbformat": 4,
 "nbformat_minor": 5
}
