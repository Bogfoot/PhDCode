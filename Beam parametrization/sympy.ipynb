{
 "cells": [
  {
   "cell_type": "code",
   "execution_count": 93,
   "id": "a9027382-e006-4532-96f1-7185c4f55aca",
   "metadata": {},
   "outputs": [],
   "source": [
    "import sympy as smp\n",
    "import matplotlib.pyplot as plt"
   ]
  },
  {
   "cell_type": "code",
   "execution_count": 72,
   "id": "1c2f3afe-3786-4c11-8630-7bd7ff52196a",
   "metadata": {},
   "outputs": [],
   "source": [
    "x, A, B = smp.symbols(\"x alpha beta\")\n",
    "f,g = smp.symbols(\"f g\", cls=smp.Function)"
   ]
  },
  {
   "cell_type": "code",
   "execution_count": 78,
   "id": "0e18e373-7db7-4e78-92b4-325a6448dd7a",
   "metadata": {},
   "outputs": [],
   "source": [
    "g = 2*x-1\n",
    "f = g * smp.cos(smp.sqrt(3*g**2 + 6))/(smp.sqrt(3*g**2 + 6))"
   ]
  },
  {
   "cell_type": "code",
   "execution_count": 79,
   "id": "6d8b708a-766c-4cd2-a893-5a4285e8fdac",
   "metadata": {},
   "outputs": [
    {
     "data": {
      "text/latex": [
       "$\\displaystyle \\frac{\\left(2 x - 1\\right) \\cos{\\left(\\sqrt{3 \\left(2 x - 1\\right)^{2} + 6} \\right)}}{\\sqrt{3 \\left(2 x - 1\\right)^{2} + 6}}$"
      ],
      "text/plain": [
       "(2*x - 1)*cos(sqrt(3*(2*x - 1)**2 + 6))/sqrt(3*(2*x - 1)**2 + 6)"
      ]
     },
     "execution_count": 79,
     "metadata": {},
     "output_type": "execute_result"
    }
   ],
   "source": [
    "f"
   ]
  },
  {
   "cell_type": "code",
   "execution_count": 82,
   "id": "e429787f-f8ae-4d07-9fce-9e9020787c84",
   "metadata": {},
   "outputs": [],
   "source": [
    "integrand = smp.integrate(f,(x,0,10))"
   ]
  },
  {
   "cell_type": "code",
   "execution_count": 92,
   "id": "d5154a7c-1383-47fc-b4a6-1b7ca01078c9",
   "metadata": {},
   "outputs": [
    {
     "data": {
      "text/latex": [
       "$\\displaystyle 0.143131975341233$"
      ],
      "text/plain": [
       "0.143131975341233"
      ]
     },
     "execution_count": 92,
     "metadata": {},
     "output_type": "execute_result"
    }
   ],
   "source": [
    "integrand.evalf()"
   ]
  },
  {
   "cell_type": "code",
   "execution_count": 117,
   "id": "a8104af8-aa32-4362-9bc3-55d2be74bd81",
   "metadata": {},
   "outputs": [],
   "source": [
    "def plot_functions(f,\n",
    "                   g = None,\n",
    "                   show = False,\n",
    "                   diff_plot = False,\n",
    "                   xlim = (-10, 10),\n",
    "                   ylim = (-10, 10),\n",
    "                   color = ['r', 'm', 'b', 'g']):\n",
    "    x = smp.symbols('x')\n",
    "    if g is None:\n",
    "        p1 = plt.plot(f(x), (x, xlim[0], xlim[1]),\n",
    "                  show = False,\n",
    "                  line_color = color[0],\n",
    "                  ylim = ylim,\n",
    "                  legend  = True)\n",
    "    if diff_plot:\n",
    "            p2 = plt.plot(f(x).diff(), (x, xlim[0], xlim[1]),\n",
    "                      show = False,\n",
    "                      line_color = color[1],\n",
    "                      ylim = ylim,\n",
    "                      legend  = True)\n",
    "            p1.extend(p2)\n",
    "    if show:\n",
    "            p1.show()\n",
    "            return p1\n",
    "    p1 = plt.plot(f(x), (x, xlim[0], xlim[1]),\n",
    "              show = False,\n",
    "              line_color = color[0],\n",
    "              ylim = ylim,\n",
    "              label = f'${latex(f(x))}$',\n",
    "              legend  = True)\n",
    "    p2 = plt.plot(g(x), (x, xlim[0], xlim[1]),\n",
    "              show = False,\n",
    "              line_color = color[1],\n",
    "              ylim = ylim,\n",
    "              label = f'${latex(g(x))}$',\n",
    "              legend  = True)\n",
    "    p1.extend(p2)\n",
    "    if diff_plot:\n",
    "        p1_diff = plt.plot(f(x).diff(), (x, xlim[0], xlim[1]),\n",
    "                      show = False,\n",
    "                      line_color = color[2],\n",
    "                      ylim = ylim,\n",
    "                      legend  = True)\n",
    "        p1.extend(p1_diff)\n",
    "        p2_diff = plt.lot(g(x).diff(), (x, xlim[0], xlim[1]),\n",
    "                      show = False,\n",
    "                      line_color = color[3],\n",
    "                      ylim = ylim,\n",
    "                      legend  = True)\n",
    "        p1.extend(p2_diff)\n",
    "    if show:\n",
    "        p1.show()\n",
    "    return p1"
   ]
  },
  {
   "cell_type": "code",
   "execution_count": 118,
   "id": "3ec0b687-c606-46a5-9933-f535e24713f8",
   "metadata": {},
   "outputs": [
    {
     "ename": "TypeError",
     "evalue": "'Mul' object is not callable",
     "output_type": "error",
     "traceback": [
      "\u001b[0;31m---------------------------------------------------------------------------\u001b[0m",
      "\u001b[0;31mTypeError\u001b[0m                                 Traceback (most recent call last)",
      "\u001b[0;32m/tmp/ipykernel_2708905/1487551102.py\u001b[0m in \u001b[0;36m<module>\u001b[0;34m\u001b[0m\n\u001b[0;32m----> 1\u001b[0;31m \u001b[0mplot_functions\u001b[0m\u001b[0;34m(\u001b[0m\u001b[0mf\u001b[0m\u001b[0;34m,\u001b[0m\u001b[0mshow\u001b[0m\u001b[0;34m=\u001b[0m\u001b[0;32mTrue\u001b[0m\u001b[0;34m)\u001b[0m\u001b[0;34m\u001b[0m\u001b[0;34m\u001b[0m\u001b[0m\n\u001b[0m",
      "\u001b[0;32m/tmp/ipykernel_2708905/1053953279.py\u001b[0m in \u001b[0;36mplot_functions\u001b[0;34m(f, g, show, diff_plot, xlim, ylim, color)\u001b[0m\n\u001b[1;32m      8\u001b[0m     \u001b[0mx\u001b[0m \u001b[0;34m=\u001b[0m \u001b[0msmp\u001b[0m\u001b[0;34m.\u001b[0m\u001b[0msymbols\u001b[0m\u001b[0;34m(\u001b[0m\u001b[0;34m'x'\u001b[0m\u001b[0;34m)\u001b[0m\u001b[0;34m\u001b[0m\u001b[0;34m\u001b[0m\u001b[0m\n\u001b[1;32m      9\u001b[0m     \u001b[0;32mif\u001b[0m \u001b[0mg\u001b[0m \u001b[0;32mis\u001b[0m \u001b[0;32mNone\u001b[0m\u001b[0;34m:\u001b[0m\u001b[0;34m\u001b[0m\u001b[0;34m\u001b[0m\u001b[0m\n\u001b[0;32m---> 10\u001b[0;31m         p1 = plt.plot(f(x), (x, xlim[0], xlim[1]),\n\u001b[0m\u001b[1;32m     11\u001b[0m                   \u001b[0mshow\u001b[0m \u001b[0;34m=\u001b[0m \u001b[0;32mFalse\u001b[0m\u001b[0;34m,\u001b[0m\u001b[0;34m\u001b[0m\u001b[0;34m\u001b[0m\u001b[0m\n\u001b[1;32m     12\u001b[0m                   \u001b[0mline_color\u001b[0m \u001b[0;34m=\u001b[0m \u001b[0mcolor\u001b[0m\u001b[0;34m[\u001b[0m\u001b[0;36m0\u001b[0m\u001b[0;34m]\u001b[0m\u001b[0;34m,\u001b[0m\u001b[0;34m\u001b[0m\u001b[0;34m\u001b[0m\u001b[0m\n",
      "\u001b[0;31mTypeError\u001b[0m: 'Mul' object is not callable"
     ]
    }
   ],
   "source": [
    "plot_functions(f,show=True)"
   ]
  },
  {
   "cell_type": "code",
   "execution_count": null,
   "id": "2068b727-6712-40aa-a5f8-d00f2e687b37",
   "metadata": {},
   "outputs": [],
   "source": []
  }
 ],
 "metadata": {
  "kernelspec": {
   "display_name": "Python 3 (ipykernel)",
   "language": "python",
   "name": "python3"
  },
  "language_info": {
   "codemirror_mode": {
    "name": "ipython",
    "version": 3
   },
   "file_extension": ".py",
   "mimetype": "text/x-python",
   "name": "python",
   "nbconvert_exporter": "python",
   "pygments_lexer": "ipython3",
   "version": "3.9.13"
  }
 },
 "nbformat": 4,
 "nbformat_minor": 5
}
